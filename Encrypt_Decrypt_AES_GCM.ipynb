{
  "nbformat": 4,
  "nbformat_minor": 0,
  "metadata": {
    "colab": {
      "provenance": [],
      "authorship_tag": "ABX9TyMhb7WN5VBnsGNUY8ILTLH/",
      "include_colab_link": true
    },
    "kernelspec": {
      "name": "python3",
      "display_name": "Python 3"
    },
    "language_info": {
      "name": "python"
    }
  },
  "cells": [
    {
      "cell_type": "markdown",
      "metadata": {
        "id": "view-in-github",
        "colab_type": "text"
      },
      "source": [
        "<a href=\"https://colab.research.google.com/github/viti990/viti990/blob/main/Encrypt_Decrypt_AES_GCM.ipynb\" target=\"_parent\"><img src=\"https://colab.research.google.com/assets/colab-badge.svg\" alt=\"Open In Colab\"/></a>"
      ]
    },
    {
      "cell_type": "code",
      "source": [
        "# ***Nota: Feito no Google Collab*** (extensão .ipynb) mas deve funcionar com python normal tambem (extensão .py)\n",
        "# tenta importar as bibliotecas necessarias, se não der instala e então importa\n",
        "import os\n",
        "try:\n",
        "  import sys\n",
        "  from Crypto.Cipher import AES\n",
        "  from Crypto.Random import get_random_bytes\n",
        "except:\n",
        "  os.system(\"pip install pycryptodome\")\n",
        "  import sys\n",
        "  from Crypto.Cipher import AES\n",
        "  from Crypto.Random import get_random_bytes"
      ],
      "metadata": {
        "id": "Ex0YbG6iARCG"
      },
      "execution_count": 32,
      "outputs": []
    },
    {
      "cell_type": "code",
      "source": [
        "## Encriptar\n",
        "# mensagem a ser encriptada\n",
        "plaintext = \"CESAR School\"\n",
        "# senha para encriptar, nesse caso é uma sequencia de bytes aleatória\n",
        "key = get_random_bytes(16)\n",
        "# nonce é um valor aleatório que deve ser único para cada operação de criptografia com a mesma chave.\n",
        "nonce = get_random_bytes(12)\n",
        "# usa o algoritmo AES-GCM com a chave\n",
        "cipher = AES.new(key, AES.MODE_GCM, nonce=nonce)\n",
        "# criptografa o texto, tag é um valor de autenticação gerado junto com o texto cifrado para garantir a integridade dos dados.\n",
        "ciphertext, tag = cipher.encrypt_and_digest(plaintext.encode())\n",
        "\n",
        "print(\"Texto original:\", plaintext)\n",
        "print(\"Texto cifrado:\", ciphertext)\n",
        "print(\"Tag:\", tag)\n",
        "print(\"Nonce:\", nonce)\n",
        "print(\"Chave:\", key)"
      ],
      "metadata": {
        "colab": {
          "base_uri": "https://localhost:8080/"
        },
        "id": "sKyKezHKz_l3",
        "outputId": "426e7791-4337-41ab-975a-b860a223f270"
      },
      "execution_count": 47,
      "outputs": [
        {
          "output_type": "stream",
          "name": "stdout",
          "text": [
            "Texto original: CESAR School\n",
            "Texto cifrado: b'\\xea\\x0b\\xb0P\\xe3D\\xeb{x\\xe7\\xc3>'\n",
            "Tag: b'\\x8c\\x0c\\x10\\x13\\x98G\\xb3f\\xc46f\\rl\\xd6\\xe7\\xa5'\n",
            "Nonce: b'\\t\\xfb\\x06\\x94\\xf7\\x08w\\x9c\\xc1S\\xc7\\x07'\n",
            "Chave: b'\\xbb\\xb1o\\xe8\\xbb\\rP\\xe2\\xf3$A.^D|\\x0e'\n"
          ]
        }
      ]
    },
    {
      "cell_type": "code",
      "source": [
        "## Decriptar\n",
        "# para funcionar precisa colocar os inputs de acordo com os outputs de encriptar\n",
        "ciphertext = b'\\xea\\x0b\\xb0P\\xe3D\\xeb{x\\xe7\\xc3>'\n",
        "key = b'\\xbb\\xb1o\\xe8\\xbb\\rP\\xe2\\xf3$A.^D|\\x0e'\n",
        "tag = b'\\x8c\\x0c\\x10\\x13\\x98G\\xb3f\\xc46f\\rl\\xd6\\xe7\\xa5'\n",
        "nonce = b'\\t\\xfb\\x06\\x94\\xf7\\x08w\\x9c\\xc1S\\xc7\\x07'\n",
        "cipher = AES.new(key, AES.MODE_GCM, nonce=nonce)\n",
        "\n",
        "decrypted_text = cipher.decrypt_and_verify(ciphertext, tag)\n",
        "print(\"Texto descriptografado:\", decrypted_text.decode())\n"
      ],
      "metadata": {
        "colab": {
          "base_uri": "https://localhost:8080/"
        },
        "id": "jD61nyQa4_2D",
        "outputId": "5a32f0e4-8fb6-4948-dd48-8d84cf9aa046"
      },
      "execution_count": 48,
      "outputs": [
        {
          "output_type": "stream",
          "name": "stdout",
          "text": [
            "Texto descriptografado: CESAR School\n"
          ]
        }
      ]
    }
  ]
}